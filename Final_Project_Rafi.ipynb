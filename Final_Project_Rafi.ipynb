{
 "cells": [
  {
   "cell_type": "markdown",
   "id": "f12e841b-286e-4a98-ae0c-63399703788f",
   "metadata": {},
   "source": [
    "### DSCI 100 Group 152 Proposal\n",
    "\n",
    "# Advertisement Detection Using KNN Classification\n",
    "\n",
    "### Group 152: Marie Samantha Fidelia, Rafi Arnouk, Ki’an Merali, Vivaan Jhaveri\n",
    "\n",
    "test"
   ]
  },
  {
   "cell_type": "code",
   "execution_count": null,
   "id": "2397ec9e-28e9-4b34-acf5-9b351305a1b4",
   "metadata": {},
   "outputs": [],
   "source": []
  }
 ],
 "metadata": {
  "kernelspec": {
   "display_name": "R",
   "language": "R",
   "name": "ir"
  },
  "language_info": {
   "codemirror_mode": "r",
   "file_extension": ".r",
   "mimetype": "text/x-r-source",
   "name": "R",
   "pygments_lexer": "r",
   "version": "4.1.3"
  }
 },
 "nbformat": 4,
 "nbformat_minor": 5
}

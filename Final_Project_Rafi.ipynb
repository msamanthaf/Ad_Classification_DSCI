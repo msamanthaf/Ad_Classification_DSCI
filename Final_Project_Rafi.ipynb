{
 "cells": [
  {
   "cell_type": "markdown",
   "id": "f12e841b-286e-4a98-ae0c-63399703788f",
   "metadata": {},
   "source": [
    "### DSCI 100 Group 152 Proposal\n",
    "\n",
    "# Advertisement Detection Using KNN Classification\n",
    "\n",
    "### Group 152: Marie Samantha Fidelia, Rafi Arnouk, Ki’an Merali, Vivaan Jhaveri"
   ]
  },
  {
   "cell_type": "markdown",
   "id": "e9688460-ba45-4bbf-ab31-a8f779f7f97c",
   "metadata": {},
   "source": [
    "##### Introduction:\n",
    "- Provide some relevant background information on the topic so that someone unfamiliar with it will be prepared to understand the rest of your report\n",
    "- Clearly state the question you tried to answer with your project\n",
    "- Identify and describe the dataset that was used to answer the question\n",
    "\n",
    "##### Methods & Results:\n",
    "- Describe in written English the methods you used to perform your analysis from beginning to end that narrates the code the does the analysis.\n",
    "- Your report should include code which:\n",
    "1) Loads data from the original source on the web \n",
    "2) Wrangles and cleans the data from it's original (downloaded) format to the format necessary for the planned analysis\n",
    "3) Performs a summary of the data set that is relevant for exploratory data analysis related to the planned analysis \n",
    "4) Creates a visualization of the dataset that is relevant for exploratory data analysis related to the planned analysis\n",
    "5) Performs the data analysis\n",
    "6) Creates a visualization of the analysis \n",
    "note: all tables and figure should have a figure/table number and a legend\n",
    "##### Discussion:\n",
    "- Summarize what you found\n",
    "- Discuss whether this is what you expected to find?\n",
    "- Discuss what impact could such findings have?\n",
    "- Discuss what future questions could this lead to?\n",
    "##### References\n",
    "- At least 2 citations of literature relevant to the project (format is your choice, just be consistent across the references).\n",
    "Make sure to cite the source of your data as well."
   ]
  },
  {
   "cell_type": "code",
   "execution_count": null,
   "id": "8c26c81c-af12-4c9f-a03c-f175182baffc",
   "metadata": {},
   "outputs": [],
   "source": []
  }
 ],
 "metadata": {
  "kernelspec": {
   "display_name": "R",
   "language": "R",
   "name": "ir"
  },
  "language_info": {
   "codemirror_mode": "r",
   "file_extension": ".r",
   "mimetype": "text/x-r-source",
   "name": "R",
   "pygments_lexer": "r",
   "version": "4.1.3"
  }
 },
 "nbformat": 4,
 "nbformat_minor": 5
}

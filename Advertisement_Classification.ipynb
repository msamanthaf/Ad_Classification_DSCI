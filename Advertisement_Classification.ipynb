{
 "cells": [
  {
   "attachments": {
    "7d09c7ee-bfd1-403d-9acd-8227ad17b349.png": {
     "image/png": "[encoded data removed]"
    }
   },
   "cell_type": "markdown",
   "id": "c0b164f2-ea7c-437f-9653-b1ec6dc9195b",
   "metadata": {},
   "source": [
    "### Group 152 Proposal\n",
    "# Advertisement Detection Using KNN Classification\n",
    "![image.png](attachment:7d09c7ee-bfd1-403d-9acd-8227ad17b349.png)"
   ]
  },
  {
   "cell_type": "markdown",
   "id": "51a9f9bb-a4a0-47c5-9b74-d678d5529d13",
   "metadata": {},
   "source": [
    "## Introduction\n",
    "- Provide some relevant background information on the topic so that someone unfamiliar with it will be prepared to understand the rest of your proposal\n",
    "- Clearly state the question you will try to answer with your project\n",
    "- Identify and describe the dataset that will be used to answer the question\n",
    "\n",
    "The dataset was obtained from https://archive.ics.uci.edu/ml/datasets/Internet+Advertisements\n",
    "* Credits to Dua, D. and Graff, C. (2019). UCI Machine Learning Repository [http://archive.ics.uci.edu/ml]. Irvine, CA: University of California, School of Information and Computer Science.\n",
    "\n",
    "The dataset is downloaded in a comma separated format. It contains 3 continuous variables (height, width, and ratio), as well as 1554 binary values (0 means no, 1 means yes) regarding the aspects of the image, which was then summed up into one new column called the \"Attributes\". The Attributes column includes 19 caption features, 111 alt features, 495 base URL features, 472 destination URL features, and 457 in-image URL features. Several missing values are interpreted as a question mark (\"?\")."
   ]
  },
  {
   "cell_type": "markdown",
   "id": "57f5ffbc-2289-4b68-80bd-c5eb672c09de",
   "metadata": {},
   "source": [
    "## Preliminary exploratory data analysis:\n",
    "- Demonstrate that the dataset can be read from the web into R \n",
    "- Clean and wrangle your data into a tidy format\n",
    "- Using only training data, summarize the data in at least one table (this is exploratory data analysis). An example of a useful table could be one that reports the number of observations in each class, the means of the predictor variables you plan to use in your analysis and how many rows have missing data. \n",
    "- Using only training data, visualize the data with at least one plot relevant to the analysis you plan to do (this is exploratory data analysis). An example of a useful visualization could be one that compares the distributions of each of the predictor variables you plan to use in your analysis."
   ]
  },
  {
   "cell_type": "markdown",
   "id": "d827b28b-cbfd-478c-9972-531e8a44e6b2",
   "metadata": {},
   "source": [
    "## Methods:\n",
    "- Explain how you will conduct either your data analysis and which variables/columns you will use. Note - you do not need to use all variables/columns that exist in the raw data set. In fact, that's often not a good idea. For each variable think: is this a useful variable for prediction?\n",
    "- Describe at least one way that you will visualize the results"
   ]
  },
  {
   "cell_type": "markdown",
   "id": "0f3e4f4c-8ef8-4675-a3bd-cd2ce3cfeb4b",
   "metadata": {},
   "source": [
    "## Expected outcomes and significance:\n",
    "- What do you expect to find?\n",
    "- What impact could such findings have?\n",
    "- What future questions could this lead to?"
   ]
  },
  {
   "cell_type": "markdown",
   "id": "ea0e2788-fc1a-4245-90a7-126ddfd78447",
   "metadata": {},
   "source": [
    "**Start by importing the necessary libraries for our modelling**"
   ]
  },
  {
   "cell_type": "code",
   "execution_count": 1,
   "id": "8c30aa2c-b932-4ba1-a044-6c87c5fef3f3",
   "metadata": {},
   "outputs": [
    {
     "name": "stderr",
     "output_type": "stream",
     "text": [
      "── \u001b[1mAttaching packages\u001b[22m ─────────────────────────────────────── tidyverse 1.3.1 ──\n",
      "\n",
      "\u001b[32m✔\u001b[39m \u001b[34mggplot2\u001b[39m 3.3.6     \u001b[32m✔\u001b[39m \u001b[34mpurrr  \u001b[39m 0.3.4\n",
      "\u001b[32m✔\u001b[39m \u001b[34mtibble \u001b[39m 3.1.7     \u001b[32m✔\u001b[39m \u001b[34mdplyr  \u001b[39m 1.0.9\n",
      "\u001b[32m✔\u001b[39m \u001b[34mtidyr  \u001b[39m 1.2.0     \u001b[32m✔\u001b[39m \u001b[34mstringr\u001b[39m 1.4.0\n",
      "\u001b[32m✔\u001b[39m \u001b[34mreadr  \u001b[39m 2.1.2     \u001b[32m✔\u001b[39m \u001b[34mforcats\u001b[39m 0.5.1\n",
      "\n",
      "── \u001b[1mConflicts\u001b[22m ────────────────────────────────────────── tidyverse_conflicts() ──\n",
      "\u001b[31m✖\u001b[39m \u001b[34mdplyr\u001b[39m::\u001b[32mfilter()\u001b[39m masks \u001b[34mstats\u001b[39m::filter()\n",
      "\u001b[31m✖\u001b[39m \u001b[34mdplyr\u001b[39m::\u001b[32mlag()\u001b[39m    masks \u001b[34mstats\u001b[39m::lag()\n",
      "\n",
      "── \u001b[1mAttaching packages\u001b[22m ────────────────────────────────────── tidymodels 1.0.0 ──\n",
      "\n",
      "\u001b[32m✔\u001b[39m \u001b[34mbroom       \u001b[39m 1.0.0     \u001b[32m✔\u001b[39m \u001b[34mrsample     \u001b[39m 1.0.0\n",
      "\u001b[32m✔\u001b[39m \u001b[34mdials       \u001b[39m 1.0.0     \u001b[32m✔\u001b[39m \u001b[34mtune        \u001b[39m 1.0.0\n",
      "\u001b[32m✔\u001b[39m \u001b[34minfer       \u001b[39m 1.0.2     \u001b[32m✔\u001b[39m \u001b[34mworkflows   \u001b[39m 1.0.0\n",
      "\u001b[32m✔\u001b[39m \u001b[34mmodeldata   \u001b[39m 1.0.0     \u001b[32m✔\u001b[39m \u001b[34mworkflowsets\u001b[39m 1.0.0\n",
      "\u001b[32m✔\u001b[39m \u001b[34mparsnip     \u001b[39m 1.0.0     \u001b[32m✔\u001b[39m \u001b[34myardstick   \u001b[39m 1.0.0\n",
      "\u001b[32m✔\u001b[39m \u001b[34mrecipes     \u001b[39m 1.0.1     \n",
      "\n",
      "── \u001b[1mConflicts\u001b[22m ───────────────────────────────────────── tidymodels_conflicts() ──\n",
      "\u001b[31m✖\u001b[39m \u001b[34mscales\u001b[39m::\u001b[32mdiscard()\u001b[39m masks \u001b[34mpurrr\u001b[39m::discard()\n",
      "\u001b[31m✖\u001b[39m \u001b[34mdplyr\u001b[39m::\u001b[32mfilter()\u001b[39m   masks \u001b[34mstats\u001b[39m::filter()\n",
      "\u001b[31m✖\u001b[39m \u001b[34mrecipes\u001b[39m::\u001b[32mfixed()\u001b[39m  masks \u001b[34mstringr\u001b[39m::fixed()\n",
      "\u001b[31m✖\u001b[39m \u001b[34mdplyr\u001b[39m::\u001b[32mlag()\u001b[39m      masks \u001b[34mstats\u001b[39m::lag()\n",
      "\u001b[31m✖\u001b[39m \u001b[34myardstick\u001b[39m::\u001b[32mspec()\u001b[39m masks \u001b[34mreadr\u001b[39m::spec()\n",
      "\u001b[31m✖\u001b[39m \u001b[34mrecipes\u001b[39m::\u001b[32mstep()\u001b[39m   masks \u001b[34mstats\u001b[39m::step()\n",
      "\u001b[34m•\u001b[39m Dig deeper into tidy modeling with R at \u001b[32mhttps://www.tmwr.org\u001b[39m\n",
      "\n"
     ]
    }
   ],
   "source": [
    "library(tidyverse)\n",
    "library(tidymodels)"
   ]
  },
  {
   "cell_type": "markdown",
   "id": "baa0b58b-944b-4c9e-a80a-c569ff1165d3",
   "metadata": {},
   "source": [
    "Our dataset contains too many rows and columns that will take a long time to read. Hence, we are only taking the first 1000 rows of the dataset and display the necessary columns."
   ]
  },
  {
   "cell_type": "code",
   "execution_count": 13,
   "id": "c8450239-bca7-44d5-9c0d-d1b9664d4b37",
   "metadata": {},
   "outputs": [
    {
     "name": "stderr",
     "output_type": "stream",
     "text": [
      "\u001b[1mRows: \u001b[22m\u001b[34m1000\u001b[39m \u001b[1mColumns: \u001b[22m\u001b[34m5\u001b[39m\n",
      "\u001b[36m──\u001b[39m \u001b[1mColumn specification\u001b[22m \u001b[36m────────────────────────────────────────────────────────\u001b[39m\n",
      "\u001b[1mDelimiter:\u001b[22m \",\"\n",
      "\u001b[31mchr\u001b[39m (4): X1, X2, X3, X1559\n",
      "\u001b[32mdbl\u001b[39m (1): X1560\n",
      "\n",
      "\u001b[36mℹ\u001b[39m Use `spec()` to retrieve the full column specification for this data.\n",
      "\u001b[36mℹ\u001b[39m Specify the column types or set `show_col_types = FALSE` to quiet this message.\n"
     ]
    },
    {
     "name": "stdout",
     "output_type": "stream",
     "text": [
      "Rows: 756\n",
      "Columns: 5\n",
      "$ Height     \u001b[3m\u001b[90m<chr>\u001b[39m\u001b[23m \"125\", \"57\", \"33\", \"60\", \"60\", \"60\", \"59\", \"60\", \"60\", \"60\"…\n",
      "$ Width      \u001b[3m\u001b[90m<chr>\u001b[39m\u001b[23m \"125\", \"468\", \"230\", \"468\", \"468\", \"468\", \"460\", \"234\", \"46…\n",
      "$ Ratio      \u001b[3m\u001b[90m<chr>\u001b[39m\u001b[23m \"1\", \"8.2105\", \"6.9696\", \"7.8\", \"7.8\", \"7.8\", \"7.7966\", \"3.…\n",
      "$ Attributes \u001b[3m\u001b[90m<dbl>\u001b[39m\u001b[23m 14, 11, 22, 26, 24, 24, 27, 31, 23, 24, 34, 33, 30, 22, 28,…\n",
      "$ Type       \u001b[3m\u001b[90m<chr>\u001b[39m\u001b[23m \"ad.\", \"ad.\", \"ad.\", \"ad.\", \"ad.\", \"ad.\", \"ad.\", \"ad.\", \"ad…\n"
     ]
    }
   ],
   "source": [
    "# Read csv data without column name into R \n",
    "import_ad_data <- read_csv(\"Data/ad.data.csv\", col_names = FALSE, col_select = c(\"X1\", \"X2\", \"X3\", \"X1560\", \"X1559\"), n_max = 1000)\n",
    "\n",
    "# Rename column names and filter out missing values\n",
    "ad_data <- rename(import_ad_data, Height = X1, Width = X2, Ratio = X3, Attributes = X1560, Type = X1559) |>\n",
    "           filter(Height != \"?\" , Width != \"?\" , Ratio != \"?\")\n",
    "\n",
    "glimpse(ad_data)"
   ]
  },
  {
   "cell_type": "markdown",
   "id": "fe534fd6-ca01-49b2-8571-7bda2b40b6ff",
   "metadata": {},
   "source": [
    "Here we can see how many rows are classified as each type"
   ]
  },
  {
   "cell_type": "code",
   "execution_count": 14,
   "id": "a9a11bc9-cea9-4ba7-8c9b-86269d3918d2",
   "metadata": {},
   "outputs": [
    {
     "data": {
      "text/html": [
       "<table class=\"dataframe\">\n",
       "<caption>A tibble: 2 × 2</caption>\n",
       "<thead>\n",
       "\t<tr><th scope=col>Type</th><th scope=col>n</th></tr>\n",
       "\t<tr><th scope=col>&lt;chr&gt;</th><th scope=col>&lt;int&gt;</th></tr>\n",
       "</thead>\n",
       "<tbody>\n",
       "\t<tr><td>ad.   </td><td>386</td></tr>\n",
       "\t<tr><td>nonad.</td><td>370</td></tr>\n",
       "</tbody>\n",
       "</table>\n"
      ],
      "text/latex": [
       "A tibble: 2 × 2\n",
       "\\begin{tabular}{ll}\n",
       " Type & n\\\\\n",
       " <chr> & <int>\\\\\n",
       "\\hline\n",
       "\t ad.    & 386\\\\\n",
       "\t nonad. & 370\\\\\n",
       "\\end{tabular}\n"
      ],
      "text/markdown": [
       "\n",
       "A tibble: 2 × 2\n",
       "\n",
       "| Type &lt;chr&gt; | n &lt;int&gt; |\n",
       "|---|---|\n",
       "| ad.    | 386 |\n",
       "| nonad. | 370 |\n",
       "\n"
      ],
      "text/plain": [
       "  Type   n  \n",
       "1 ad.    386\n",
       "2 nonad. 370"
      ]
     },
     "metadata": {},
     "output_type": "display_data"
    }
   ],
   "source": [
    "total_type <- ad_data |>\n",
    "              group_by(Type) |>\n",
    "              summarize(n = n())\n",
    "total_type"
   ]
  },
  {
   "cell_type": "markdown",
   "id": "1548b697-f8c7-44ae-9302-c7c4d08a0551",
   "metadata": {},
   "source": [
    "The tibble above shows a good split between Ad and Nonad types as they are similar in proportion."
   ]
  },
  {
   "cell_type": "markdown",
   "id": "ba9373e9-1400-4ae9-bafb-34f8818153f3",
   "metadata": {},
   "source": [
    "We will set the two distinct image Type as a factor, and convert the columns from character to numeric."
   ]
  },
  {
   "cell_type": "code",
   "execution_count": 17,
   "id": "04e36540-d210-483d-8ed7-247e2b2635fb",
   "metadata": {},
   "outputs": [
    {
     "data": {
      "text/html": [
       "<table class=\"dataframe\">\n",
       "<caption>A tibble: 756 × 5</caption>\n",
       "<thead>\n",
       "\t<tr><th scope=col>Height</th><th scope=col>Width</th><th scope=col>Ratio</th><th scope=col>Attributes</th><th scope=col>Type</th></tr>\n",
       "\t<tr><th scope=col>&lt;dbl&gt;</th><th scope=col>&lt;dbl&gt;</th><th scope=col>&lt;dbl&gt;</th><th scope=col>&lt;dbl&gt;</th><th scope=col>&lt;fct&gt;</th></tr>\n",
       "</thead>\n",
       "<tbody>\n",
       "\t<tr><td>125</td><td>125</td><td> 1.0000</td><td>14</td><td>ad.</td></tr>\n",
       "\t<tr><td> 57</td><td>468</td><td> 8.2105</td><td>11</td><td>ad.</td></tr>\n",
       "\t<tr><td> 33</td><td>230</td><td> 6.9696</td><td>22</td><td>ad.</td></tr>\n",
       "\t<tr><td> 60</td><td>468</td><td> 7.8000</td><td>26</td><td>ad.</td></tr>\n",
       "\t<tr><td> 60</td><td>468</td><td> 7.8000</td><td>24</td><td>ad.</td></tr>\n",
       "\t<tr><td> 60</td><td>468</td><td> 7.8000</td><td>24</td><td>ad.</td></tr>\n",
       "\t<tr><td> 59</td><td>460</td><td> 7.7966</td><td>27</td><td>ad.</td></tr>\n",
       "\t<tr><td> 60</td><td>234</td><td> 3.9000</td><td>31</td><td>ad.</td></tr>\n",
       "\t<tr><td> 60</td><td>468</td><td> 7.8000</td><td>23</td><td>ad.</td></tr>\n",
       "\t<tr><td> 60</td><td>468</td><td> 7.8000</td><td>24</td><td>ad.</td></tr>\n",
       "\t<tr><td> 90</td><td> 52</td><td> 0.5777</td><td>34</td><td>ad.</td></tr>\n",
       "\t<tr><td> 90</td><td> 60</td><td> 0.6666</td><td>33</td><td>ad.</td></tr>\n",
       "\t<tr><td> 90</td><td> 60</td><td> 0.6666</td><td>30</td><td>ad.</td></tr>\n",
       "\t<tr><td> 33</td><td>230</td><td> 6.9696</td><td>22</td><td>ad.</td></tr>\n",
       "\t<tr><td> 60</td><td>468</td><td> 7.8000</td><td>28</td><td>ad.</td></tr>\n",
       "\t<tr><td> 60</td><td>468</td><td> 7.8000</td><td>48</td><td>ad.</td></tr>\n",
       "\t<tr><td>125</td><td>125</td><td> 1.0000</td><td>27</td><td>ad.</td></tr>\n",
       "\t<tr><td> 60</td><td>468</td><td> 7.8000</td><td>27</td><td>ad.</td></tr>\n",
       "\t<tr><td> 30</td><td>585</td><td>19.5000</td><td>10</td><td>ad.</td></tr>\n",
       "\t<tr><td> 90</td><td> 60</td><td> 0.6666</td><td>32</td><td>ad.</td></tr>\n",
       "\t<tr><td> 90</td><td> 60</td><td> 0.6666</td><td>31</td><td>ad.</td></tr>\n",
       "\t<tr><td> 90</td><td> 60</td><td> 0.6666</td><td>31</td><td>ad.</td></tr>\n",
       "\t<tr><td> 90</td><td> 60</td><td> 0.6666</td><td>30</td><td>ad.</td></tr>\n",
       "\t<tr><td> 90</td><td> 52</td><td> 0.5777</td><td>32</td><td>ad.</td></tr>\n",
       "\t<tr><td> 90</td><td> 60</td><td> 0.6666</td><td>30</td><td>ad.</td></tr>\n",
       "\t<tr><td> 60</td><td>468</td><td> 7.8000</td><td> 7</td><td>ad.</td></tr>\n",
       "\t<tr><td> 60</td><td>234</td><td> 3.9000</td><td>35</td><td>ad.</td></tr>\n",
       "\t<tr><td> 60</td><td>234</td><td> 3.9000</td><td>34</td><td>ad.</td></tr>\n",
       "\t<tr><td> 60</td><td> 88</td><td> 1.4666</td><td>37</td><td>ad.</td></tr>\n",
       "\t<tr><td> 60</td><td>120</td><td> 2.0000</td><td>36</td><td>ad.</td></tr>\n",
       "\t<tr><td>⋮</td><td>⋮</td><td>⋮</td><td>⋮</td><td>⋮</td></tr>\n",
       "\t<tr><td> 54</td><td> 90</td><td>1.6666</td><td> 4</td><td>nonad.</td></tr>\n",
       "\t<tr><td>146</td><td>141</td><td>0.9657</td><td>16</td><td>nonad.</td></tr>\n",
       "\t<tr><td> 90</td><td> 90</td><td>1.0000</td><td> 5</td><td>nonad.</td></tr>\n",
       "\t<tr><td> 75</td><td>150</td><td>2.0000</td><td> 1</td><td>nonad.</td></tr>\n",
       "\t<tr><td> 65</td><td> 95</td><td>1.4615</td><td>14</td><td>nonad.</td></tr>\n",
       "\t<tr><td> 16</td><td> 16</td><td>1.0000</td><td>28</td><td>nonad.</td></tr>\n",
       "\t<tr><td> 90</td><td> 90</td><td>1.0000</td><td> 6</td><td>nonad.</td></tr>\n",
       "\t<tr><td> 75</td><td>234</td><td>3.1200</td><td>29</td><td>nonad.</td></tr>\n",
       "\t<tr><td>148</td><td>200</td><td>1.3513</td><td>11</td><td>nonad.</td></tr>\n",
       "\t<tr><td> 35</td><td>156</td><td>4.4571</td><td>11</td><td>nonad.</td></tr>\n",
       "\t<tr><td> 92</td><td>255</td><td>2.7717</td><td>11</td><td>nonad.</td></tr>\n",
       "\t<tr><td> 60</td><td> 67</td><td>1.1166</td><td>17</td><td>nonad.</td></tr>\n",
       "\t<tr><td> 36</td><td> 41</td><td>1.1388</td><td>24</td><td>nonad.</td></tr>\n",
       "\t<tr><td> 43</td><td>140</td><td>3.2558</td><td>11</td><td>nonad.</td></tr>\n",
       "\t<tr><td> 16</td><td> 16</td><td>1.0000</td><td>28</td><td>nonad.</td></tr>\n",
       "\t<tr><td> 70</td><td> 50</td><td>0.7142</td><td> 5</td><td>nonad.</td></tr>\n",
       "\t<tr><td>100</td><td>160</td><td>1.6000</td><td> 9</td><td>nonad.</td></tr>\n",
       "\t<tr><td> 90</td><td> 90</td><td>1.0000</td><td> 5</td><td>nonad.</td></tr>\n",
       "\t<tr><td> 43</td><td>140</td><td>3.2558</td><td>11</td><td>nonad.</td></tr>\n",
       "\t<tr><td> 35</td><td>126</td><td>3.6000</td><td> 5</td><td>nonad.</td></tr>\n",
       "\t<tr><td> 11</td><td> 11</td><td>1.0000</td><td>17</td><td>nonad.</td></tr>\n",
       "\t<tr><td> 11</td><td> 94</td><td>8.5454</td><td>26</td><td>nonad.</td></tr>\n",
       "\t<tr><td> 40</td><td> 46</td><td>1.1500</td><td>12</td><td>nonad.</td></tr>\n",
       "\t<tr><td> 84</td><td> 73</td><td>0.8690</td><td>14</td><td>nonad.</td></tr>\n",
       "\t<tr><td>133</td><td>120</td><td>0.9022</td><td> 9</td><td>nonad.</td></tr>\n",
       "\t<tr><td> 11</td><td> 11</td><td>1.0000</td><td>17</td><td>nonad.</td></tr>\n",
       "\t<tr><td>154</td><td>196</td><td>1.2727</td><td> 7</td><td>nonad.</td></tr>\n",
       "\t<tr><td> 90</td><td> 90</td><td>1.0000</td><td> 4</td><td>nonad.</td></tr>\n",
       "\t<tr><td> 41</td><td>239</td><td>5.8292</td><td> 1</td><td>nonad.</td></tr>\n",
       "\t<tr><td>125</td><td>250</td><td>2.0000</td><td>15</td><td>nonad.</td></tr>\n",
       "</tbody>\n",
       "</table>\n"
      ],
      "text/latex": [
       "A tibble: 756 × 5\n",
       "\\begin{tabular}{lllll}\n",
       " Height & Width & Ratio & Attributes & Type\\\\\n",
       " <dbl> & <dbl> & <dbl> & <dbl> & <fct>\\\\\n",
       "\\hline\n",
       "\t 125 & 125 &  1.0000 & 14 & ad.\\\\\n",
       "\t  57 & 468 &  8.2105 & 11 & ad.\\\\\n",
       "\t  33 & 230 &  6.9696 & 22 & ad.\\\\\n",
       "\t  60 & 468 &  7.8000 & 26 & ad.\\\\\n",
       "\t  60 & 468 &  7.8000 & 24 & ad.\\\\\n",
       "\t  60 & 468 &  7.8000 & 24 & ad.\\\\\n",
       "\t  59 & 460 &  7.7966 & 27 & ad.\\\\\n",
       "\t  60 & 234 &  3.9000 & 31 & ad.\\\\\n",
       "\t  60 & 468 &  7.8000 & 23 & ad.\\\\\n",
       "\t  60 & 468 &  7.8000 & 24 & ad.\\\\\n",
       "\t  90 &  52 &  0.5777 & 34 & ad.\\\\\n",
       "\t  90 &  60 &  0.6666 & 33 & ad.\\\\\n",
       "\t  90 &  60 &  0.6666 & 30 & ad.\\\\\n",
       "\t  33 & 230 &  6.9696 & 22 & ad.\\\\\n",
       "\t  60 & 468 &  7.8000 & 28 & ad.\\\\\n",
       "\t  60 & 468 &  7.8000 & 48 & ad.\\\\\n",
       "\t 125 & 125 &  1.0000 & 27 & ad.\\\\\n",
       "\t  60 & 468 &  7.8000 & 27 & ad.\\\\\n",
       "\t  30 & 585 & 19.5000 & 10 & ad.\\\\\n",
       "\t  90 &  60 &  0.6666 & 32 & ad.\\\\\n",
       "\t  90 &  60 &  0.6666 & 31 & ad.\\\\\n",
       "\t  90 &  60 &  0.6666 & 31 & ad.\\\\\n",
       "\t  90 &  60 &  0.6666 & 30 & ad.\\\\\n",
       "\t  90 &  52 &  0.5777 & 32 & ad.\\\\\n",
       "\t  90 &  60 &  0.6666 & 30 & ad.\\\\\n",
       "\t  60 & 468 &  7.8000 &  7 & ad.\\\\\n",
       "\t  60 & 234 &  3.9000 & 35 & ad.\\\\\n",
       "\t  60 & 234 &  3.9000 & 34 & ad.\\\\\n",
       "\t  60 &  88 &  1.4666 & 37 & ad.\\\\\n",
       "\t  60 & 120 &  2.0000 & 36 & ad.\\\\\n",
       "\t ⋮ & ⋮ & ⋮ & ⋮ & ⋮\\\\\n",
       "\t  54 &  90 & 1.6666 &  4 & nonad.\\\\\n",
       "\t 146 & 141 & 0.9657 & 16 & nonad.\\\\\n",
       "\t  90 &  90 & 1.0000 &  5 & nonad.\\\\\n",
       "\t  75 & 150 & 2.0000 &  1 & nonad.\\\\\n",
       "\t  65 &  95 & 1.4615 & 14 & nonad.\\\\\n",
       "\t  16 &  16 & 1.0000 & 28 & nonad.\\\\\n",
       "\t  90 &  90 & 1.0000 &  6 & nonad.\\\\\n",
       "\t  75 & 234 & 3.1200 & 29 & nonad.\\\\\n",
       "\t 148 & 200 & 1.3513 & 11 & nonad.\\\\\n",
       "\t  35 & 156 & 4.4571 & 11 & nonad.\\\\\n",
       "\t  92 & 255 & 2.7717 & 11 & nonad.\\\\\n",
       "\t  60 &  67 & 1.1166 & 17 & nonad.\\\\\n",
       "\t  36 &  41 & 1.1388 & 24 & nonad.\\\\\n",
       "\t  43 & 140 & 3.2558 & 11 & nonad.\\\\\n",
       "\t  16 &  16 & 1.0000 & 28 & nonad.\\\\\n",
       "\t  70 &  50 & 0.7142 &  5 & nonad.\\\\\n",
       "\t 100 & 160 & 1.6000 &  9 & nonad.\\\\\n",
       "\t  90 &  90 & 1.0000 &  5 & nonad.\\\\\n",
       "\t  43 & 140 & 3.2558 & 11 & nonad.\\\\\n",
       "\t  35 & 126 & 3.6000 &  5 & nonad.\\\\\n",
       "\t  11 &  11 & 1.0000 & 17 & nonad.\\\\\n",
       "\t  11 &  94 & 8.5454 & 26 & nonad.\\\\\n",
       "\t  40 &  46 & 1.1500 & 12 & nonad.\\\\\n",
       "\t  84 &  73 & 0.8690 & 14 & nonad.\\\\\n",
       "\t 133 & 120 & 0.9022 &  9 & nonad.\\\\\n",
       "\t  11 &  11 & 1.0000 & 17 & nonad.\\\\\n",
       "\t 154 & 196 & 1.2727 &  7 & nonad.\\\\\n",
       "\t  90 &  90 & 1.0000 &  4 & nonad.\\\\\n",
       "\t  41 & 239 & 5.8292 &  1 & nonad.\\\\\n",
       "\t 125 & 250 & 2.0000 & 15 & nonad.\\\\\n",
       "\\end{tabular}\n"
      ],
      "text/markdown": [
       "\n",
       "A tibble: 756 × 5\n",
       "\n",
       "| Height &lt;dbl&gt; | Width &lt;dbl&gt; | Ratio &lt;dbl&gt; | Attributes &lt;dbl&gt; | Type &lt;fct&gt; |\n",
       "|---|---|---|---|---|\n",
       "| 125 | 125 |  1.0000 | 14 | ad. |\n",
       "|  57 | 468 |  8.2105 | 11 | ad. |\n",
       "|  33 | 230 |  6.9696 | 22 | ad. |\n",
       "|  60 | 468 |  7.8000 | 26 | ad. |\n",
       "|  60 | 468 |  7.8000 | 24 | ad. |\n",
       "|  60 | 468 |  7.8000 | 24 | ad. |\n",
       "|  59 | 460 |  7.7966 | 27 | ad. |\n",
       "|  60 | 234 |  3.9000 | 31 | ad. |\n",
       "|  60 | 468 |  7.8000 | 23 | ad. |\n",
       "|  60 | 468 |  7.8000 | 24 | ad. |\n",
       "|  90 |  52 |  0.5777 | 34 | ad. |\n",
       "|  90 |  60 |  0.6666 | 33 | ad. |\n",
       "|  90 |  60 |  0.6666 | 30 | ad. |\n",
       "|  33 | 230 |  6.9696 | 22 | ad. |\n",
       "|  60 | 468 |  7.8000 | 28 | ad. |\n",
       "|  60 | 468 |  7.8000 | 48 | ad. |\n",
       "| 125 | 125 |  1.0000 | 27 | ad. |\n",
       "|  60 | 468 |  7.8000 | 27 | ad. |\n",
       "|  30 | 585 | 19.5000 | 10 | ad. |\n",
       "|  90 |  60 |  0.6666 | 32 | ad. |\n",
       "|  90 |  60 |  0.6666 | 31 | ad. |\n",
       "|  90 |  60 |  0.6666 | 31 | ad. |\n",
       "|  90 |  60 |  0.6666 | 30 | ad. |\n",
       "|  90 |  52 |  0.5777 | 32 | ad. |\n",
       "|  90 |  60 |  0.6666 | 30 | ad. |\n",
       "|  60 | 468 |  7.8000 |  7 | ad. |\n",
       "|  60 | 234 |  3.9000 | 35 | ad. |\n",
       "|  60 | 234 |  3.9000 | 34 | ad. |\n",
       "|  60 |  88 |  1.4666 | 37 | ad. |\n",
       "|  60 | 120 |  2.0000 | 36 | ad. |\n",
       "| ⋮ | ⋮ | ⋮ | ⋮ | ⋮ |\n",
       "|  54 |  90 | 1.6666 |  4 | nonad. |\n",
       "| 146 | 141 | 0.9657 | 16 | nonad. |\n",
       "|  90 |  90 | 1.0000 |  5 | nonad. |\n",
       "|  75 | 150 | 2.0000 |  1 | nonad. |\n",
       "|  65 |  95 | 1.4615 | 14 | nonad. |\n",
       "|  16 |  16 | 1.0000 | 28 | nonad. |\n",
       "|  90 |  90 | 1.0000 |  6 | nonad. |\n",
       "|  75 | 234 | 3.1200 | 29 | nonad. |\n",
       "| 148 | 200 | 1.3513 | 11 | nonad. |\n",
       "|  35 | 156 | 4.4571 | 11 | nonad. |\n",
       "|  92 | 255 | 2.7717 | 11 | nonad. |\n",
       "|  60 |  67 | 1.1166 | 17 | nonad. |\n",
       "|  36 |  41 | 1.1388 | 24 | nonad. |\n",
       "|  43 | 140 | 3.2558 | 11 | nonad. |\n",
       "|  16 |  16 | 1.0000 | 28 | nonad. |\n",
       "|  70 |  50 | 0.7142 |  5 | nonad. |\n",
       "| 100 | 160 | 1.6000 |  9 | nonad. |\n",
       "|  90 |  90 | 1.0000 |  5 | nonad. |\n",
       "|  43 | 140 | 3.2558 | 11 | nonad. |\n",
       "|  35 | 126 | 3.6000 |  5 | nonad. |\n",
       "|  11 |  11 | 1.0000 | 17 | nonad. |\n",
       "|  11 |  94 | 8.5454 | 26 | nonad. |\n",
       "|  40 |  46 | 1.1500 | 12 | nonad. |\n",
       "|  84 |  73 | 0.8690 | 14 | nonad. |\n",
       "| 133 | 120 | 0.9022 |  9 | nonad. |\n",
       "|  11 |  11 | 1.0000 | 17 | nonad. |\n",
       "| 154 | 196 | 1.2727 |  7 | nonad. |\n",
       "|  90 |  90 | 1.0000 |  4 | nonad. |\n",
       "|  41 | 239 | 5.8292 |  1 | nonad. |\n",
       "| 125 | 250 | 2.0000 | 15 | nonad. |\n",
       "\n"
      ],
      "text/plain": [
       "    Height Width Ratio   Attributes Type  \n",
       "1   125    125    1.0000 14         ad.   \n",
       "2    57    468    8.2105 11         ad.   \n",
       "3    33    230    6.9696 22         ad.   \n",
       "4    60    468    7.8000 26         ad.   \n",
       "5    60    468    7.8000 24         ad.   \n",
       "6    60    468    7.8000 24         ad.   \n",
       "7    59    460    7.7966 27         ad.   \n",
       "8    60    234    3.9000 31         ad.   \n",
       "9    60    468    7.8000 23         ad.   \n",
       "10   60    468    7.8000 24         ad.   \n",
       "11   90     52    0.5777 34         ad.   \n",
       "12   90     60    0.6666 33         ad.   \n",
       "13   90     60    0.6666 30         ad.   \n",
       "14   33    230    6.9696 22         ad.   \n",
       "15   60    468    7.8000 28         ad.   \n",
       "16   60    468    7.8000 48         ad.   \n",
       "17  125    125    1.0000 27         ad.   \n",
       "18   60    468    7.8000 27         ad.   \n",
       "19   30    585   19.5000 10         ad.   \n",
       "20   90     60    0.6666 32         ad.   \n",
       "21   90     60    0.6666 31         ad.   \n",
       "22   90     60    0.6666 31         ad.   \n",
       "23   90     60    0.6666 30         ad.   \n",
       "24   90     52    0.5777 32         ad.   \n",
       "25   90     60    0.6666 30         ad.   \n",
       "26   60    468    7.8000  7         ad.   \n",
       "27   60    234    3.9000 35         ad.   \n",
       "28   60    234    3.9000 34         ad.   \n",
       "29   60     88    1.4666 37         ad.   \n",
       "30   60    120    2.0000 36         ad.   \n",
       "⋮   ⋮      ⋮     ⋮       ⋮          ⋮     \n",
       "727  54     90   1.6666   4         nonad.\n",
       "728 146    141   0.9657  16         nonad.\n",
       "729  90     90   1.0000   5         nonad.\n",
       "730  75    150   2.0000   1         nonad.\n",
       "731  65     95   1.4615  14         nonad.\n",
       "732  16     16   1.0000  28         nonad.\n",
       "733  90     90   1.0000   6         nonad.\n",
       "734  75    234   3.1200  29         nonad.\n",
       "735 148    200   1.3513  11         nonad.\n",
       "736  35    156   4.4571  11         nonad.\n",
       "737  92    255   2.7717  11         nonad.\n",
       "738  60     67   1.1166  17         nonad.\n",
       "739  36     41   1.1388  24         nonad.\n",
       "740  43    140   3.2558  11         nonad.\n",
       "741  16     16   1.0000  28         nonad.\n",
       "742  70     50   0.7142   5         nonad.\n",
       "743 100    160   1.6000   9         nonad.\n",
       "744  90     90   1.0000   5         nonad.\n",
       "745  43    140   3.2558  11         nonad.\n",
       "746  35    126   3.6000   5         nonad.\n",
       "747  11     11   1.0000  17         nonad.\n",
       "748  11     94   8.5454  26         nonad.\n",
       "749  40     46   1.1500  12         nonad.\n",
       "750  84     73   0.8690  14         nonad.\n",
       "751 133    120   0.9022   9         nonad.\n",
       "752  11     11   1.0000  17         nonad.\n",
       "753 154    196   1.2727   7         nonad.\n",
       "754  90     90   1.0000   4         nonad.\n",
       "755  41    239   5.8292   1         nonad.\n",
       "756 125    250   2.0000  15         nonad."
      ]
     },
     "metadata": {},
     "output_type": "display_data"
    }
   ],
   "source": [
    "ad_factored <- ad_data |>\n",
    "               mutate(Height = as.numeric(Height),\n",
    "                      Width = as.numeric(Width),\n",
    "                      Ratio = as.numeric(Ratio),\n",
    "                      Type = as_factor(Type))\n",
    "ad_factored"
   ]
  },
  {
   "cell_type": "code",
   "execution_count": 18,
   "id": "d10dcd93-0b65-4494-9bc9-416ddee4d9ab",
   "metadata": {},
   "outputs": [
    {
     "name": "stdout",
     "output_type": "stream",
     "text": [
      "Rows: 656\n",
      "Columns: 5\n",
      "$ Height     \u001b[3m\u001b[90m<dbl>\u001b[39m\u001b[23m 125, 57, 33, 60, 60, 60, 90, 90, 90, 33, 60, 60, 125, 60, 3…\n",
      "$ Width      \u001b[3m\u001b[90m<dbl>\u001b[39m\u001b[23m 125, 468, 230, 468, 468, 468, 52, 60, 60, 230, 468, 468, 12…\n",
      "$ Ratio      \u001b[3m\u001b[90m<dbl>\u001b[39m\u001b[23m 1.0000, 8.2105, 6.9696, 7.8000, 7.8000, 7.8000, 0.5777, 0.6…\n",
      "$ Attributes \u001b[3m\u001b[90m<dbl>\u001b[39m\u001b[23m 14, 11, 22, 26, 24, 23, 34, 33, 30, 22, 28, 48, 27, 27, 10,…\n",
      "$ Type       \u001b[3m\u001b[90m<fct>\u001b[39m\u001b[23m ad., ad., ad., ad., ad., ad., ad., ad., ad., ad., ad., ad.,…\n",
      "Rows: 100\n",
      "Columns: 5\n",
      "$ Height     \u001b[3m\u001b[90m<dbl>\u001b[39m\u001b[23m 60, 59, 60, 60, 90, 60, 60, 125, 125, 60, 60, 60, 60, 100, …\n",
      "$ Width      \u001b[3m\u001b[90m<dbl>\u001b[39m\u001b[23m 468, 460, 234, 468, 60, 468, 468, 125, 125, 468, 234, 468, …\n",
      "$ Ratio      \u001b[3m\u001b[90m<dbl>\u001b[39m\u001b[23m 7.8000, 7.7966, 3.9000, 7.8000, 0.6666, 7.8000, 7.8000, 1.0…\n",
      "$ Attributes \u001b[3m\u001b[90m<dbl>\u001b[39m\u001b[23m 24, 27, 31, 24, 31, 46, 69, 58, 53, 44, 31, 25, 36, 9, 4, 6…\n",
      "$ Type       \u001b[3m\u001b[90m<fct>\u001b[39m\u001b[23m ad., ad., ad., ad., ad., ad., ad., ad., ad., ad., ad., ad.,…\n"
     ]
    },
    {
     "data": {
      "text/html": [
       "<table class=\"dataframe\">\n",
       "<caption>A tibble: 2 × 3</caption>\n",
       "<thead>\n",
       "\t<tr><th scope=col>Type</th><th scope=col>n</th><th scope=col>percent</th></tr>\n",
       "\t<tr><th scope=col>&lt;fct&gt;</th><th scope=col>&lt;int&gt;</th><th scope=col>&lt;dbl&gt;</th></tr>\n",
       "</thead>\n",
       "<tbody>\n",
       "\t<tr><td>ad.   </td><td>335</td><td>51.06707</td></tr>\n",
       "\t<tr><td>nonad.</td><td>321</td><td>48.93293</td></tr>\n",
       "</tbody>\n",
       "</table>\n"
      ],
      "text/latex": [
       "A tibble: 2 × 3\n",
       "\\begin{tabular}{lll}\n",
       " Type & n & percent\\\\\n",
       " <fct> & <int> & <dbl>\\\\\n",
       "\\hline\n",
       "\t ad.    & 335 & 51.06707\\\\\n",
       "\t nonad. & 321 & 48.93293\\\\\n",
       "\\end{tabular}\n"
      ],
      "text/markdown": [
       "\n",
       "A tibble: 2 × 3\n",
       "\n",
       "| Type &lt;fct&gt; | n &lt;int&gt; | percent &lt;dbl&gt; |\n",
       "|---|---|---|\n",
       "| ad.    | 335 | 51.06707 |\n",
       "| nonad. | 321 | 48.93293 |\n",
       "\n"
      ],
      "text/plain": [
       "  Type   n   percent \n",
       "1 ad.    335 51.06707\n",
       "2 nonad. 321 48.93293"
      ]
     },
     "metadata": {},
     "output_type": "display_data"
    },
    {
     "data": {
      "text/html": [
       "<table class=\"dataframe\">\n",
       "<caption>A tibble: 2 × 3</caption>\n",
       "<thead>\n",
       "\t<tr><th scope=col>Type</th><th scope=col>n</th><th scope=col>percent</th></tr>\n",
       "\t<tr><th scope=col>&lt;fct&gt;</th><th scope=col>&lt;int&gt;</th><th scope=col>&lt;dbl&gt;</th></tr>\n",
       "</thead>\n",
       "<tbody>\n",
       "\t<tr><td>ad.   </td><td>51</td><td>51</td></tr>\n",
       "\t<tr><td>nonad.</td><td>49</td><td>49</td></tr>\n",
       "</tbody>\n",
       "</table>\n"
      ],
      "text/latex": [
       "A tibble: 2 × 3\n",
       "\\begin{tabular}{lll}\n",
       " Type & n & percent\\\\\n",
       " <fct> & <int> & <dbl>\\\\\n",
       "\\hline\n",
       "\t ad.    & 51 & 51\\\\\n",
       "\t nonad. & 49 & 49\\\\\n",
       "\\end{tabular}\n"
      ],
      "text/markdown": [
       "\n",
       "A tibble: 2 × 3\n",
       "\n",
       "| Type &lt;fct&gt; | n &lt;int&gt; | percent &lt;dbl&gt; |\n",
       "|---|---|---|\n",
       "| ad.    | 51 | 51 |\n",
       "| nonad. | 49 | 49 |\n",
       "\n"
      ],
      "text/plain": [
       "  Type   n  percent\n",
       "1 ad.    51 51     \n",
       "2 nonad. 49 49     "
      ]
     },
     "metadata": {},
     "output_type": "display_data"
    }
   ],
   "source": [
    "set.seed(1)\n",
    "\n",
    "ad_data_recipe <- recipe(Type ~ Height + Width + Ratio + Attributes, data = ad_factored) |>\n",
    "                  step_scale(all_predictors()) |>\n",
    "                  step_center(all_predictors()) |> \n",
    "                  prep()\n",
    "\n",
    "ad_data_standardized <- bake(ad_data_recipe, ad_factored)\n",
    "\n",
    "ad_split <- initial_split(ad_factored, prop = 0.87, strata = Type)\n",
    "ad_train <- training(ad_split)\n",
    "ad_test <- testing(ad_split) \n",
    "glimpse(ad_train)\n",
    "glimpse(ad_test)\n",
    "\n",
    "data_proportions_train <- ad_train |>\n",
    "                    group_by(Type) |>\n",
    "                    summarize(n = n()) |>\n",
    "                    mutate(percent = 100*n/nrow(ad_train))\n",
    "data_proportions_train\n",
    "\n",
    "data_proportions_test <- ad_test |>\n",
    "                         group_by(Type) |>\n",
    "                         summarize(n = n()) |>\n",
    "                         mutate(percent = 100*n/nrow(ad_test))\n",
    "data_proportions_test"
   ]
  },
  {
   "cell_type": "code",
   "execution_count": null,
   "id": "1e1c5026-4bd0-441f-a251-669e2411d42d",
   "metadata": {},
   "outputs": [],
   "source": [
    "# Plot to see the relationship between ratio and attributes to type\n",
    "\n",
    "options(repr.plot.width = 9, repr.plot.height = 7)\n",
    "ad_plot <- ad_data_standardized |>\n",
    "           ggplot(aes(x = Ratio, y = Attributes, color = Type)) + \n",
    "           geom_point()  + \n",
    "           xlab(\"Ratio Standardized\") + \n",
    "           ylab(\"Attributes Standardized\") +\n",
    "           labs(colour = \"What type of image is this?\") +\n",
    "           theme(text = element_text(size=20)) \n",
    "    \n",
    "ad_plot\n",
    "\n",
    "options(repr.plot.width = 9, repr.plot.height = 7)\n",
    "ad_plot2 <- ad_data |>\n",
    "           ggplot(aes(x = Ratio, y = Attributes, color = Type)) + \n",
    "           geom_point()  + \n",
    "           xlab(\"Ratio\") + \n",
    "           ylab(\"Attributes\") +\n",
    "           labs(colour = \"What type of image is this?\") +\n",
    "           theme(text = element_text(size=20)) \n",
    "    \n",
    "ad_plot2"
   ]
  },
  {
   "cell_type": "code",
   "execution_count": null,
   "id": "6aaaf70a-e250-4e9c-9bdd-138a15abf379",
   "metadata": {},
   "outputs": [],
   "source": [
    "# Do the training here with ad_train\n"
   ]
  }
 ],
 "metadata": {
  "kernelspec": {
   "display_name": "R",
   "language": "R",
   "name": "ir"
  },
  "language_info": {
   "codemirror_mode": "r",
   "file_extension": ".r",
   "mimetype": "text/x-r-source",
   "name": "R",
   "pygments_lexer": "r",
   "version": "4.1.3"
  }
 },
 "nbformat": 4,
 "nbformat_minor": 5
}

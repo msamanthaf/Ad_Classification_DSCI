{
 "cells": [
  {
   "cell_type": "code",
   "execution_count": null,
   "id": "8c30aa2c-b932-4ba1-a044-6c87c5fef3f3",
   "metadata": {},
   "outputs": [],
   "source": []
  }
 ],
 "metadata": {
  "kernelspec": {
   "display_name": "R",
   "language": "R",
   "name": "ir"
  },
  "language_info": {
   "codemirror_mode": "r",
   "file_extension": ".r",
   "mimetype": "text/x-r-source",
   "name": "R",
   "pygments_lexer": "r",
   "version": "4.1.3"
  }
 },
 "nbformat": 4,
 "nbformat_minor": 5
}

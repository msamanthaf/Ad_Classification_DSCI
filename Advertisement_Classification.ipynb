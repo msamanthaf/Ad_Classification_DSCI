{
 "cells": [
  {
   "cell_type": "code",
   "execution_count": 2,
   "id": "8c30aa2c-b932-4ba1-a044-6c87c5fef3f3",
   "metadata": {},
   "outputs": [
    {
     "name": "stderr",
     "output_type": "stream",
     "text": [
      "── \u001b[1mAttaching packages\u001b[22m ─────────────────────────────────────── tidyverse 1.3.1 ──\n",
      "\n",
      "\u001b[32m✔\u001b[39m \u001b[34mggplot2\u001b[39m 3.3.6     \u001b[32m✔\u001b[39m \u001b[34mpurrr  \u001b[39m 0.3.4\n",
      "\u001b[32m✔\u001b[39m \u001b[34mtibble \u001b[39m 3.1.7     \u001b[32m✔\u001b[39m \u001b[34mdplyr  \u001b[39m 1.0.9\n",
      "\u001b[32m✔\u001b[39m \u001b[34mtidyr  \u001b[39m 1.2.0     \u001b[32m✔\u001b[39m \u001b[34mstringr\u001b[39m 1.4.0\n",
      "\u001b[32m✔\u001b[39m \u001b[34mreadr  \u001b[39m 2.1.2     \u001b[32m✔\u001b[39m \u001b[34mforcats\u001b[39m 0.5.1\n",
      "\n",
      "── \u001b[1mConflicts\u001b[22m ────────────────────────────────────────── tidyverse_conflicts() ──\n",
      "\u001b[31m✖\u001b[39m \u001b[34mdplyr\u001b[39m::\u001b[32mfilter()\u001b[39m masks \u001b[34mstats\u001b[39m::filter()\n",
      "\u001b[31m✖\u001b[39m \u001b[34mdplyr\u001b[39m::\u001b[32mlag()\u001b[39m    masks \u001b[34mstats\u001b[39m::lag()\n",
      "\n",
      "── \u001b[1mAttaching packages\u001b[22m ────────────────────────────────────── tidymodels 1.0.0 ──\n",
      "\n",
      "\u001b[32m✔\u001b[39m \u001b[34mbroom       \u001b[39m 1.0.0     \u001b[32m✔\u001b[39m \u001b[34mrsample     \u001b[39m 1.0.0\n",
      "\u001b[32m✔\u001b[39m \u001b[34mdials       \u001b[39m 1.0.0     \u001b[32m✔\u001b[39m \u001b[34mtune        \u001b[39m 1.0.0\n",
      "\u001b[32m✔\u001b[39m \u001b[34minfer       \u001b[39m 1.0.2     \u001b[32m✔\u001b[39m \u001b[34mworkflows   \u001b[39m 1.0.0\n",
      "\u001b[32m✔\u001b[39m \u001b[34mmodeldata   \u001b[39m 1.0.0     \u001b[32m✔\u001b[39m \u001b[34mworkflowsets\u001b[39m 1.0.0\n",
      "\u001b[32m✔\u001b[39m \u001b[34mparsnip     \u001b[39m 1.0.0     \u001b[32m✔\u001b[39m \u001b[34myardstick   \u001b[39m 1.0.0\n",
      "\u001b[32m✔\u001b[39m \u001b[34mrecipes     \u001b[39m 1.0.1     \n",
      "\n",
      "── \u001b[1mConflicts\u001b[22m ───────────────────────────────────────── tidymodels_conflicts() ──\n",
      "\u001b[31m✖\u001b[39m \u001b[34mscales\u001b[39m::\u001b[32mdiscard()\u001b[39m masks \u001b[34mpurrr\u001b[39m::discard()\n",
      "\u001b[31m✖\u001b[39m \u001b[34mdplyr\u001b[39m::\u001b[32mfilter()\u001b[39m   masks \u001b[34mstats\u001b[39m::filter()\n",
      "\u001b[31m✖\u001b[39m \u001b[34mrecipes\u001b[39m::\u001b[32mfixed()\u001b[39m  masks \u001b[34mstringr\u001b[39m::fixed()\n",
      "\u001b[31m✖\u001b[39m \u001b[34mdplyr\u001b[39m::\u001b[32mlag()\u001b[39m      masks \u001b[34mstats\u001b[39m::lag()\n",
      "\u001b[31m✖\u001b[39m \u001b[34myardstick\u001b[39m::\u001b[32mspec()\u001b[39m masks \u001b[34mreadr\u001b[39m::spec()\n",
      "\u001b[31m✖\u001b[39m \u001b[34mrecipes\u001b[39m::\u001b[32mstep()\u001b[39m   masks \u001b[34mstats\u001b[39m::step()\n",
      "\u001b[34m•\u001b[39m Use suppressPackageStartupMessages() to eliminate package startup messages\n",
      "\n"
     ]
    }
   ],
   "source": [
    "library(tidyverse)\n",
    "library(readr)\n",
    "library(tidymodels)"
   ]
  },
  {
   "cell_type": "code",
   "execution_count": 11,
   "id": "d10dcd93-0b65-4494-9bc9-416ddee4d9ab",
   "metadata": {},
   "outputs": [
    {
     "name": "stderr",
     "output_type": "stream",
     "text": [
      "\u001b[1mRows: \u001b[22m\u001b[34m1000\u001b[39m \u001b[1mColumns: \u001b[22m\u001b[34m5\u001b[39m\n",
      "\u001b[36m──\u001b[39m \u001b[1mColumn specification\u001b[22m \u001b[36m────────────────────────────────────────────────────────\u001b[39m\n",
      "\u001b[1mDelimiter:\u001b[22m \",\"\n",
      "\u001b[31mchr\u001b[39m (4): X1, X2, X3, X1559\n",
      "\u001b[32mdbl\u001b[39m (1): X1560\n",
      "\n",
      "\u001b[36mℹ\u001b[39m Use `spec()` to retrieve the full column specification for this data.\n",
      "\u001b[36mℹ\u001b[39m Specify the column types or set `show_col_types = FALSE` to quiet this message.\n"
     ]
    },
    {
     "data": {
      "text/html": [
       "<table class=\"dataframe\">\n",
       "<caption>A tibble: 2 × 2</caption>\n",
       "<thead>\n",
       "\t<tr><th scope=col>Type</th><th scope=col>n</th></tr>\n",
       "\t<tr><th scope=col>&lt;chr&gt;</th><th scope=col>&lt;int&gt;</th></tr>\n",
       "</thead>\n",
       "<tbody>\n",
       "\t<tr><td>ad.   </td><td>386</td></tr>\n",
       "\t<tr><td>nonad.</td><td>370</td></tr>\n",
       "</tbody>\n",
       "</table>\n"
      ],
      "text/latex": [
       "A tibble: 2 × 2\n",
       "\\begin{tabular}{ll}\n",
       " Type & n\\\\\n",
       " <chr> & <int>\\\\\n",
       "\\hline\n",
       "\t ad.    & 386\\\\\n",
       "\t nonad. & 370\\\\\n",
       "\\end{tabular}\n"
      ],
      "text/markdown": [
       "\n",
       "A tibble: 2 × 2\n",
       "\n",
       "| Type &lt;chr&gt; | n &lt;int&gt; |\n",
       "|---|---|\n",
       "| ad.    | 386 |\n",
       "| nonad. | 370 |\n",
       "\n"
      ],
      "text/plain": [
       "  Type   n  \n",
       "1 ad.    386\n",
       "2 nonad. 370"
      ]
     },
     "metadata": {},
     "output_type": "display_data"
    },
    {
     "name": "stdout",
     "output_type": "stream",
     "text": [
      "Rows: 656\n",
      "Columns: 5\n",
      "$ Height     \u001b[3m\u001b[90m<chr>\u001b[39m\u001b[23m \"125\", \"57\", \"33\", \"60\", \"60\", \"60\", \"90\", \"90\", \"90\", \"33\"…\n",
      "$ Width      \u001b[3m\u001b[90m<chr>\u001b[39m\u001b[23m \"125\", \"468\", \"230\", \"468\", \"468\", \"468\", \"52\", \"60\", \"60\",…\n",
      "$ Ratio      \u001b[3m\u001b[90m<chr>\u001b[39m\u001b[23m \"1\", \"8.2105\", \"6.9696\", \"7.8\", \"7.8\", \"7.8\", \"0.5777\", \"0.…\n",
      "$ Attributes \u001b[3m\u001b[90m<dbl>\u001b[39m\u001b[23m 14, 11, 22, 26, 24, 23, 34, 33, 30, 22, 28, 48, 27, 10, 32,…\n",
      "$ Type       \u001b[3m\u001b[90m<fct>\u001b[39m\u001b[23m ad., ad., ad., ad., ad., ad., ad., ad., ad., ad., ad., ad.,…\n",
      "Rows: 100\n",
      "Columns: 5\n",
      "$ Height     \u001b[3m\u001b[90m<chr>\u001b[39m\u001b[23m \"60\", \"59\", \"60\", \"60\", \"60\", \"90\", \"60\", \"60\", \"125\", \"125…\n",
      "$ Width      \u001b[3m\u001b[90m<chr>\u001b[39m\u001b[23m \"468\", \"460\", \"234\", \"468\", \"468\", \"60\", \"468\", \"468\", \"125…\n",
      "$ Ratio      \u001b[3m\u001b[90m<chr>\u001b[39m\u001b[23m \"7.8\", \"7.7966\", \"3.9\", \"7.8\", \"7.8\", \"0.6666\", \"7.8\", \"7.8…\n",
      "$ Attributes \u001b[3m\u001b[90m<dbl>\u001b[39m\u001b[23m 24, 27, 31, 24, 27, 31, 46, 69, 58, 53, 28, 8, 37, 36, 9, 4…\n",
      "$ Type       \u001b[3m\u001b[90m<fct>\u001b[39m\u001b[23m ad., ad., ad., ad., ad., ad., ad., ad., ad., ad., ad., ad.,…\n"
     ]
    },
    {
     "data": {
      "text/html": [
       "<table class=\"dataframe\">\n",
       "<caption>A tibble: 2 × 3</caption>\n",
       "<thead>\n",
       "\t<tr><th scope=col>Type</th><th scope=col>n</th><th scope=col>percent</th></tr>\n",
       "\t<tr><th scope=col>&lt;fct&gt;</th><th scope=col>&lt;int&gt;</th><th scope=col>&lt;dbl&gt;</th></tr>\n",
       "</thead>\n",
       "<tbody>\n",
       "\t<tr><td>ad.   </td><td>335</td><td>51.06707</td></tr>\n",
       "\t<tr><td>nonad.</td><td>321</td><td>48.93293</td></tr>\n",
       "</tbody>\n",
       "</table>\n"
      ],
      "text/latex": [
       "A tibble: 2 × 3\n",
       "\\begin{tabular}{lll}\n",
       " Type & n & percent\\\\\n",
       " <fct> & <int> & <dbl>\\\\\n",
       "\\hline\n",
       "\t ad.    & 335 & 51.06707\\\\\n",
       "\t nonad. & 321 & 48.93293\\\\\n",
       "\\end{tabular}\n"
      ],
      "text/markdown": [
       "\n",
       "A tibble: 2 × 3\n",
       "\n",
       "| Type &lt;fct&gt; | n &lt;int&gt; | percent &lt;dbl&gt; |\n",
       "|---|---|---|\n",
       "| ad.    | 335 | 51.06707 |\n",
       "| nonad. | 321 | 48.93293 |\n",
       "\n"
      ],
      "text/plain": [
       "  Type   n   percent \n",
       "1 ad.    335 51.06707\n",
       "2 nonad. 321 48.93293"
      ]
     },
     "metadata": {},
     "output_type": "display_data"
    }
   ],
   "source": [
    "set.seed(1)\n",
    "\n",
    "import_ad_data <- read_csv(\"Data/ad.data.csv\", col_names = FALSE, col_select = c(\"X1\", \"X2\", \"X3\", \"X1560\", \"X1559\"), n_max = 1000)\n",
    "ad_data <- rename(import_ad_data, Height = X1, Width = X2, Ratio = X3, Attributes = X1560, Type = X1559) |>\n",
    "           filter(Height != \"?\" , Width != \"?\" , Ratio != \"?\")\n",
    "        \n",
    "total_type <- ad_data |>\n",
    "              group_by(Type) |>\n",
    "              summarize(n = n())\n",
    "total_type\n",
    "\n",
    "type_factor <- ad_data |>\n",
    "               mutate(Type = as_factor(Type))\n",
    "\n",
    "ad_split <- initial_split(type_factor, prop = 0.87, strata = Type)\n",
    "ad_train <- training(ad_split)\n",
    "ad_test <- testing(ad_split) \n",
    "glimpse(ad_train)\n",
    "glimpse(ad_test)\n",
    "\n",
    "data_proportions <- ad_train |>\n",
    "                    group_by(Type) |>\n",
    "                    summarize(n = n()) |>\n",
    "                    mutate(percent = 100*n/nrow(ad_train))\n",
    "data_proportions"
   ]
  },
  {
   "cell_type": "code",
   "execution_count": null,
   "id": "6aaaf70a-e250-4e9c-9bdd-138a15abf379",
   "metadata": {},
   "outputs": [],
   "source": []
  }
 ],
 "metadata": {
  "kernelspec": {
   "display_name": "R",
   "language": "R",
   "name": "ir"
  },
  "language_info": {
   "codemirror_mode": "r",
   "file_extension": ".r",
   "mimetype": "text/x-r-source",
   "name": "R",
   "pygments_lexer": "r",
   "version": "4.1.3"
  }
 },
 "nbformat": 4,
 "nbformat_minor": 5
}
